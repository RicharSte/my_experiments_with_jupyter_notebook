{
 "cells": [
  {
   "cell_type": "code",
   "execution_count": 12,
   "metadata": {},
   "outputs": [],
   "source": [
    "import pandas as pd"
   ]
  },
  {
   "cell_type": "code",
   "execution_count": 13,
   "metadata": {},
   "outputs": [],
   "source": [
    "stations = pd.read_csv(open('bus.csv', 'r', encoding = 'cp1251'), sep = \";\")"
   ]
  },
  {
   "cell_type": "code",
   "execution_count": 14,
   "metadata": {},
   "outputs": [
    {
     "data": {
      "text/html": [
       "<div>\n",
       "<style scoped>\n",
       "    .dataframe tbody tr th:only-of-type {\n",
       "        vertical-align: middle;\n",
       "    }\n",
       "\n",
       "    .dataframe tbody tr th {\n",
       "        vertical-align: top;\n",
       "    }\n",
       "\n",
       "    .dataframe thead th {\n",
       "        text-align: right;\n",
       "    }\n",
       "</style>\n",
       "<table border=\"1\" class=\"dataframe\">\n",
       "  <thead>\n",
       "    <tr style=\"text-align: right;\">\n",
       "      <th></th>\n",
       "      <th>ID</th>\n",
       "      <th>Name</th>\n",
       "      <th>Longitude_WGS84</th>\n",
       "      <th>Latitude_WGS84</th>\n",
       "      <th>Street</th>\n",
       "      <th>AdmArea</th>\n",
       "      <th>District</th>\n",
       "      <th>RouteNumbers</th>\n",
       "      <th>StationName</th>\n",
       "      <th>Direction</th>\n",
       "      <th>Pavilion</th>\n",
       "      <th>OperatingOrgName</th>\n",
       "      <th>EntryState</th>\n",
       "      <th>global_id</th>\n",
       "      <th>geoData</th>\n",
       "      <th>Unnamed: 15</th>\n",
       "    </tr>\n",
       "  </thead>\n",
       "  <tbody>\n",
       "    <tr>\n",
       "      <th>0</th>\n",
       "      <td>7</td>\n",
       "      <td>«Дербеневская наб.», 3-й Дербеневский переулок...</td>\n",
       "      <td>37.6551636</td>\n",
       "      <td>55.72566817</td>\n",
       "      <td>3-й Дербеневский переулок</td>\n",
       "      <td>Южный административный округ</td>\n",
       "      <td>Даниловский район</td>\n",
       "      <td>А632</td>\n",
       "      <td>Дербеневская наб.</td>\n",
       "      <td>NaN</td>\n",
       "      <td>да</td>\n",
       "      <td>ГУП «Мосгортранс»</td>\n",
       "      <td>активна</td>\n",
       "      <td>889076457</td>\n",
       "      <td>{type=Point, coordinates=[37.6551636, 55.72566...</td>\n",
       "      <td>NaN</td>\n",
       "    </tr>\n",
       "    <tr>\n",
       "      <th>1</th>\n",
       "      <td>11</td>\n",
       "      <td>«Наб. Тараса Шевченко», набережная Тараса Шевч...</td>\n",
       "      <td>37.57240854</td>\n",
       "      <td>55.74944352</td>\n",
       "      <td>набережная Тараса Шевченко</td>\n",
       "      <td>Западный административный округ</td>\n",
       "      <td>район Дорогомилово</td>\n",
       "      <td>А91</td>\n",
       "      <td>Наб. Тараса Шевченко</td>\n",
       "      <td>NaN</td>\n",
       "      <td>да</td>\n",
       "      <td>ЗАО «Валль-СНГ»</td>\n",
       "      <td>активна</td>\n",
       "      <td>889076459</td>\n",
       "      <td>{type=Point, coordinates=[37.57240854, 55.7494...</td>\n",
       "      <td>NaN</td>\n",
       "    </tr>\n",
       "    <tr>\n",
       "      <th>2</th>\n",
       "      <td>12</td>\n",
       "      <td>«Наб. Тараса Шевченко», набережная Тараса Шевч...</td>\n",
       "      <td>37.57271647</td>\n",
       "      <td>55.74976112</td>\n",
       "      <td>набережная Тараса Шевченко</td>\n",
       "      <td>Западный административный округ</td>\n",
       "      <td>район Дорогомилово</td>\n",
       "      <td>А157; А840</td>\n",
       "      <td>Наб. Тараса Шевченко</td>\n",
       "      <td>NaN</td>\n",
       "      <td>да</td>\n",
       "      <td>ЗАО «Валль-СНГ»</td>\n",
       "      <td>активна</td>\n",
       "      <td>889076460</td>\n",
       "      <td>{type=Point, coordinates=[37.57271647, 55.7497...</td>\n",
       "      <td>NaN</td>\n",
       "    </tr>\n",
       "    <tr>\n",
       "      <th>3</th>\n",
       "      <td>27</td>\n",
       "      <td>«ВКНЦ», 3-я Черепковская улица (27)</td>\n",
       "      <td>37.37550932</td>\n",
       "      <td>55.7572642</td>\n",
       "      <td>3-я Черепковская улица</td>\n",
       "      <td>Западный административный округ</td>\n",
       "      <td>район Кунцево</td>\n",
       "      <td>А798; А816</td>\n",
       "      <td>ВКНЦ</td>\n",
       "      <td>NaN</td>\n",
       "      <td>да</td>\n",
       "      <td>ГУП «Мосгортранс»</td>\n",
       "      <td>активна</td>\n",
       "      <td>889076461</td>\n",
       "      <td>{type=Point, coordinates=[37.37550932, 55.7572...</td>\n",
       "      <td>NaN</td>\n",
       "    </tr>\n",
       "    <tr>\n",
       "      <th>4</th>\n",
       "      <td>33</td>\n",
       "      <td>«Новосущевская ул.», улица Сущёвский Вал (33)</td>\n",
       "      <td>37.60337594</td>\n",
       "      <td>55.79289095</td>\n",
       "      <td>улица Сущёвский Вал</td>\n",
       "      <td>Северо-Восточный административный округ</td>\n",
       "      <td>район Марьина Роща</td>\n",
       "      <td>А84; АТ18; А126; АТ42</td>\n",
       "      <td>Новосущевская ул.</td>\n",
       "      <td>NaN</td>\n",
       "      <td>да</td>\n",
       "      <td>ЗАО «Валль-СНГ»</td>\n",
       "      <td>активна</td>\n",
       "      <td>889076463</td>\n",
       "      <td>{type=Point, coordinates=[37.60337594, 55.7928...</td>\n",
       "      <td>NaN</td>\n",
       "    </tr>\n",
       "  </tbody>\n",
       "</table>\n",
       "</div>"
      ],
      "text/plain": [
       "   ID                                               Name Longitude_WGS84  \\\n",
       "0   7  «Дербеневская наб.», 3-й Дербеневский переулок...      37.6551636   \n",
       "1  11  «Наб. Тараса Шевченко», набережная Тараса Шевч...     37.57240854   \n",
       "2  12  «Наб. Тараса Шевченко», набережная Тараса Шевч...     37.57271647   \n",
       "3  27                «ВКНЦ», 3-я Черепковская улица (27)     37.37550932   \n",
       "4  33      «Новосущевская ул.», улица Сущёвский Вал (33)     37.60337594   \n",
       "\n",
       "  Latitude_WGS84                      Street  \\\n",
       "0    55.72566817   3-й Дербеневский переулок   \n",
       "1    55.74944352  набережная Тараса Шевченко   \n",
       "2    55.74976112  набережная Тараса Шевченко   \n",
       "3     55.7572642      3-я Черепковская улица   \n",
       "4    55.79289095         улица Сущёвский Вал   \n",
       "\n",
       "                                   AdmArea            District  \\\n",
       "0             Южный административный округ   Даниловский район   \n",
       "1          Западный административный округ  район Дорогомилово   \n",
       "2          Западный административный округ  район Дорогомилово   \n",
       "3          Западный административный округ       район Кунцево   \n",
       "4  Северо-Восточный административный округ  район Марьина Роща   \n",
       "\n",
       "            RouteNumbers           StationName Direction Pavilion  \\\n",
       "0                   А632     Дербеневская наб.       NaN       да   \n",
       "1                    А91  Наб. Тараса Шевченко       NaN       да   \n",
       "2             А157; А840  Наб. Тараса Шевченко       NaN       да   \n",
       "3             А798; А816                  ВКНЦ       NaN       да   \n",
       "4  А84; АТ18; А126; АТ42     Новосущевская ул.       NaN       да   \n",
       "\n",
       "    OperatingOrgName EntryState  global_id  \\\n",
       "0  ГУП «Мосгортранс»    активна  889076457   \n",
       "1    ЗАО «Валль-СНГ»    активна  889076459   \n",
       "2    ЗАО «Валль-СНГ»    активна  889076460   \n",
       "3  ГУП «Мосгортранс»    активна  889076461   \n",
       "4    ЗАО «Валль-СНГ»    активна  889076463   \n",
       "\n",
       "                                             geoData  Unnamed: 15  \n",
       "0  {type=Point, coordinates=[37.6551636, 55.72566...          NaN  \n",
       "1  {type=Point, coordinates=[37.57240854, 55.7494...          NaN  \n",
       "2  {type=Point, coordinates=[37.57271647, 55.7497...          NaN  \n",
       "3  {type=Point, coordinates=[37.37550932, 55.7572...          NaN  \n",
       "4  {type=Point, coordinates=[37.60337594, 55.7928...          NaN  "
      ]
     },
     "execution_count": 14,
     "metadata": {},
     "output_type": "execute_result"
    }
   ],
   "source": [
    "stations.head()"
   ]
  },
  {
   "cell_type": "code",
   "execution_count": 15,
   "metadata": {},
   "outputs": [],
   "source": [
    "stations_count = stations.groupby([\"Street\"]).size()"
   ]
  },
  {
   "cell_type": "code",
   "execution_count": 16,
   "metadata": {},
   "outputs": [
    {
     "data": {
      "text/plain": [
       "pandas.core.series.Series"
      ]
     },
     "execution_count": 16,
     "metadata": {},
     "output_type": "execute_result"
    }
   ],
   "source": [
    "type(stations_count)"
   ]
  },
  {
   "cell_type": "code",
   "execution_count": 19,
   "metadata": {},
   "outputs": [],
   "source": [
    "stations_count.sort_values(ascending= False, inplace = True)"
   ]
  },
  {
   "cell_type": "code",
   "execution_count": 21,
   "metadata": {},
   "outputs": [
    {
     "data": {
      "text/plain": [
       "Street\n",
       "проезд без названия    757\n",
       "Варшавское шоссе       190\n",
       "Калужское шоссе        116\n",
       "шоссе Энтузиастов       86\n",
       "Дмитровское шоссе       76\n",
       "dtype: int64"
      ]
     },
     "execution_count": 21,
     "metadata": {},
     "output_type": "execute_result"
    }
   ],
   "source": [
    "stations_count[:5]"
   ]
  },
  {
   "cell_type": "code",
   "execution_count": 26,
   "metadata": {},
   "outputs": [
    {
     "data": {
      "text/plain": [
       "Street                   Pavilion\n",
       "1-й Ботанический проезд  нет          1\n",
       "1-й Боткинский проезд    да           2\n",
       "1-й Варшавский проезд    да           2\n",
       "1-й Вешняковский проезд  да           1\n",
       "                         нет          1\n",
       "                                     ..\n",
       "улица Яблочкова          нет          2\n",
       "шоссе Фрезер             да           8\n",
       "                         нет          3\n",
       "шоссе Энтузиастов        да          46\n",
       "                         нет         40\n",
       "Length: 2340, dtype: int64"
      ]
     },
     "execution_count": 26,
     "metadata": {},
     "output_type": "execute_result"
    }
   ],
   "source": [
    "pavilion_count = stations.groupby([\"Street\",\"Pavilion\"]).size()\n",
    "pavilion_count"
   ]
  },
  {
   "cell_type": "code",
   "execution_count": null,
   "metadata": {},
   "outputs": [],
   "source": []
  }
 ],
 "metadata": {
  "kernelspec": {
   "display_name": "Python 3",
   "language": "python",
   "name": "python3"
  },
  "language_info": {
   "codemirror_mode": {
    "name": "ipython",
    "version": 3
   },
   "file_extension": ".py",
   "mimetype": "text/x-python",
   "name": "python",
   "nbconvert_exporter": "python",
   "pygments_lexer": "ipython3",
   "version": "3.8.5"
  }
 },
 "nbformat": 4,
 "nbformat_minor": 4
}
